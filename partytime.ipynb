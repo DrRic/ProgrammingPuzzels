{
  "nbformat": 4,
  "nbformat_minor": 0,
  "metadata": {
    "colab": {
      "provenance": [],
      "authorship_tag": "ABX9TyN98Ax+AWwOGWEuch8TASZq",
      "include_colab_link": true
    },
    "kernelspec": {
      "name": "python3",
      "display_name": "Python 3"
    },
    "language_info": {
      "name": "python"
    }
  },
  "cells": [
    {
      "cell_type": "markdown",
      "metadata": {
        "id": "view-in-github",
        "colab_type": "text"
      },
      "source": [
        "<a href=\"https://colab.research.google.com/github/DrRic/ProgrammingPuzzels/blob/main/partytime.ipynb\" target=\"_parent\"><img src=\"https://colab.research.google.com/assets/colab-badge.svg\" alt=\"Open In Colab\"/></a>"
      ]
    },
    {
      "cell_type": "markdown",
      "source": [
        "## Party time\n",
        "\n",
        "You won a special ticket to a celebrity party and can choose which hour to attend. You want to pick the hour with the most celebrities to take pictures with and boost your social standing. You have a schedule of each celebrity's arrival and departure times, given as intervals [start, end) in hours. Your goal is to find the hour with the maximum number of celebrities present.\n",
        "\n",
        "For example, if a celebrity's interval is [3, 5), they will be at the party from the start of the 3rd hour until the start of the 5th hour."
      ],
      "metadata": {
        "id": "yb4zUOXXl6OR"
      }
    },
    {
      "cell_type": "code",
      "source": [
        "from random import randint"
      ],
      "metadata": {
        "id": "5b_Au6Bcmb3E"
      },
      "execution_count": 3,
      "outputs": []
    },
    {
      "cell_type": "code",
      "execution_count": 4,
      "metadata": {
        "id": "XAE6kdIOlhHy"
      },
      "outputs": [],
      "source": [
        "def attend(end_of_party,max_stay):\n",
        "    stay = randint(1,max_stay)\n",
        "    arrive = randint(0,end_of_party-stay)\n",
        "    return (arrive,arrive+stay)"
      ]
    },
    {
      "cell_type": "code",
      "source": [
        "number_of_people = 10\n",
        "end_of_party =10\n",
        "max_stay = 4\n",
        "schedule = [attend(end_of_party,max_stay) for _ in range(number_of_people)]\n",
        "print(schedule)"
      ],
      "metadata": {
        "id": "KIv-a7j8nAcQ",
        "outputId": "2726584b-92ef-49a1-f016-81d87252acf0",
        "colab": {
          "base_uri": "https://localhost:8080/"
        }
      },
      "execution_count": 6,
      "outputs": [
        {
          "output_type": "stream",
          "name": "stdout",
          "text": [
            "[(6, 10), (0, 2), (6, 7), (7, 9), (7, 9), (6, 9), (6, 9), (3, 4), (1, 4), (4, 5)]\n"
          ]
        }
      ]
    },
    {
      "cell_type": "code",
      "source": [],
      "metadata": {
        "id": "b-JOdC1-nI8o"
      },
      "execution_count": null,
      "outputs": []
    }
  ]
}