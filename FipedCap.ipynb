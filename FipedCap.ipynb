{
  "nbformat": 4,
  "nbformat_minor": 0,
  "metadata": {
    "colab": {
      "provenance": [],
      "authorship_tag": "ABX9TyPOk4w8RzIGTpW9Y5UREfd3",
      "include_colab_link": true
    },
    "kernelspec": {
      "name": "python3",
      "display_name": "Python 3"
    },
    "language_info": {
      "name": "python"
    }
  },
  "cells": [
    {
      "cell_type": "markdown",
      "metadata": {
        "id": "view-in-github",
        "colab_type": "text"
      },
      "source": [
        "<a href=\"https://colab.research.google.com/github/DrRic/ProgrammingPuzzels/blob/main/FipedCap.ipynb\" target=\"_parent\"><img src=\"https://colab.research.google.com/assets/colab-badge.svg\" alt=\"Open In Colab\"/></a>"
      ]
    },
    {
      "cell_type": "markdown",
      "source": [
        "## The fliped cap puzzle\n",
        "\n",
        "\n",
        "You're at a stadium gate with a line of fans, each wearing a team cap either forwards or backwards. You can only let them in if all caps are facing the same way. You can't tell them to wear caps forwards or backwards, but you can tell them to flip their caps. Each fan knows their position in line (0 to n-1). You can instruct fans to flip their caps by position, like this:\n",
        "\n",
        "* Flip your cap, person at position i.\n",
        "* Flip your caps, people at positions i through j."
      ],
      "metadata": {
        "id": "9Mj1rPaHIw2B"
      }
    },
    {
      "cell_type": "code",
      "execution_count": 86,
      "metadata": {
        "id": "K-hHPxSHItpq"
      },
      "outputs": [],
      "source": [
        "from random import randint"
      ]
    },
    {
      "cell_type": "code",
      "source": [
        "line_length =10\n",
        "hat=[\"F\",\"B\"]\n",
        "\n",
        "line =[hat[randint(0,1)] for _ in range(line_length)]\n",
        "line.append(2)"
      ],
      "metadata": {
        "id": "Y22vhDSUJcWl"
      },
      "execution_count": 95,
      "outputs": []
    },
    {
      "cell_type": "code",
      "source": [
        "\n",
        "print(line)\n",
        "start=0\n",
        "instructions =[[],[]]\n",
        "i_dict={\"F\":0,\"B\":1}\n",
        "for i in range(1,len(line)):\n",
        "    if line[i-1]!=line[i]:\n",
        "        if start ==i-1:\n",
        "            instructions[i_dict[line[start]]].append(f'person at {start}. Please flip your cap from {line[start]} to {line[i]}')\n",
        "        else:\n",
        "            instructions[i_dict[line[start]]].append(f'people from {start} to {i-1} Please flip your caps from {line[start]} to {line[i]}')\n",
        "        start = i\n",
        "\n",
        "i_index = 0\n",
        "if len(instructions[0])>len(instructions[1]):\n",
        "    i_index=1\n",
        "for i in instructions[i_index]:\n",
        "    print(i)\n"
      ],
      "metadata": {
        "colab": {
          "base_uri": "https://localhost:8080/"
        },
        "id": "S_xtFJPHJnaA",
        "outputId": "a2397128-9cdc-41f3-c345-7a5c8ddc5e82"
      },
      "execution_count": 96,
      "outputs": [
        {
          "output_type": "stream",
          "name": "stdout",
          "text": [
            "['B', 'B', 'F', 'F', 'B', 'F', 'B', 'F', 'F', 'F', 2]\n",
            "people from 2 to 3 Please flip your caps from F to B\n",
            "person at 5. Please flip your cap from F to B\n",
            "people from 7 to 9 Please flip your caps from F to 2\n"
          ]
        }
      ]
    },
    {
      "cell_type": "code",
      "source": [
        "print(len(instructions[0]),len(instructions[1]))"
      ],
      "metadata": {
        "colab": {
          "base_uri": "https://localhost:8080/"
        },
        "id": "wjMMih-aQ_Sq",
        "outputId": "81321a07-e0a4-47ec-a894-24a7d7111b89"
      },
      "execution_count": 97,
      "outputs": [
        {
          "output_type": "stream",
          "name": "stdout",
          "text": [
            "3 3\n"
          ]
        }
      ]
    },
    {
      "cell_type": "code",
      "source": [
        "print(line)\n",
        "start=0\n",
        "line[-1]=line[0]\n",
        "instructions =[[],[]]\n",
        "i_dict={\"F\":0,\"B\":1}\n",
        "for i in range(1,len(line)):\n",
        "    if line[i-1]!=line[i]:\n",
        "        if line[i] == line[0]:\n",
        "            if start ==i-1:\n",
        "                print(f'person at {start}. Please flip your cap from {line[start]} to {line[i]}')\n",
        "            else:\n",
        "                print(f'people from {start} to {i-1} Please flip your caps from {line[start]} to {line[i]}')\n",
        "        start = i\n",
        "\n"
      ],
      "metadata": {
        "colab": {
          "base_uri": "https://localhost:8080/"
        },
        "id": "Mc4aoAPYJofH",
        "outputId": "38ea5708-9819-47d1-a0ad-baa9c504443a"
      },
      "execution_count": 98,
      "outputs": [
        {
          "output_type": "stream",
          "name": "stdout",
          "text": [
            "['B', 'B', 'F', 'F', 'B', 'F', 'B', 'F', 'F', 'F', 2]\n",
            "people from 2 to 3 Please flip your caps from F to B\n",
            "person at 5. Please flip your cap from F to B\n",
            "people from 7 to 9 Please flip your caps from F to B\n"
          ]
        }
      ]
    },
    {
      "cell_type": "code",
      "source": [],
      "metadata": {
        "id": "GSdtd928J_pi"
      },
      "execution_count": null,
      "outputs": []
    }
  ]
}