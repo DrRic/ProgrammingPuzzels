{
  "nbformat": 4,
  "nbformat_minor": 0,
  "metadata": {
    "colab": {
      "provenance": [],
      "authorship_tag": "ABX9TyMe9xdTbzCDxdhzdGHAA5Lm",
      "include_colab_link": true
    },
    "kernelspec": {
      "name": "python3",
      "display_name": "Python 3"
    },
    "language_info": {
      "name": "python"
    }
  },
  "cells": [
    {
      "cell_type": "markdown",
      "metadata": {
        "id": "view-in-github",
        "colab_type": "text"
      },
      "source": [
        "<a href=\"https://colab.research.google.com/github/DrRic/ProgrammingPuzzels/blob/main/PartyTime.ipynb\" target=\"_parent\"><img src=\"https://colab.research.google.com/assets/colab-badge.svg\" alt=\"Open In Colab\"/></a>"
      ]
    },
    {
      "cell_type": "markdown",
      "source": [
        "## Party time\n",
        "\n",
        "You won a special ticket to a celebrity party and can choose which hour to attend. You want to pick the hour with the most celebrities to take pictures with and boost your social standing. You have a schedule of each celebrity's arrival and departure times, given as intervals [start, end) in hours. Your goal is to find the hour with the maximum number of celebrities present.\n",
        "\n",
        "For example, if a celebrity's interval is [3, 5), they will be at the party from the start of the 3rd hour until the start of the 5th hour."
      ],
      "metadata": {
        "id": "yb4zUOXXl6OR"
      }
    },
    {
      "cell_type": "code",
      "execution_count": null,
      "metadata": {
        "id": "XAE6kdIOlhHy"
      },
      "outputs": [],
      "source": []
    }
  ]
}